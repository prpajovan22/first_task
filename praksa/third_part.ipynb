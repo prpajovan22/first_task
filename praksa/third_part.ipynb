{
 "cells": [
  {
   "cell_type": "markdown",
   "metadata": {},
   "source": [
    "## Setup"
   ]
  },
  {
   "cell_type": "code",
   "execution_count": 21,
   "metadata": {},
   "outputs": [],
   "source": [
    "import pandas as pd\n",
    "from sklearn.model_selection import train_test_split\n",
    "\n",
    "file = \"bbc-news-data.csv\"\n",
    "data = pd.read_csv(file,sep=\"\\t\")\n",
    "X_train, X_test, y_train, y_test = train_test_split(data['content'], data['category'], test_size=0.2, random_state=42)\n"
   ]
  },
  {
   "cell_type": "code",
   "execution_count": 22,
   "metadata": {},
   "outputs": [],
   "source": [
    "from nltk.corpus import stopwords\n",
    "from nltk.tokenize import word_tokenize\n",
    "import string\n",
    "\n",
    "stop_words = set(stopwords.words('english'))\n",
    "def preprocess(text):\n",
    "    text = text.lower()\n",
    "    text = ''.join([word for word in text if word not in string.punctuation])\n",
    "    tokens = word_tokenize(text)\n",
    "    tokens = [word for word in tokens if word not in stop_words]\n",
    "    return ' '.join(tokens)\n",
    "\n",
    "X_train = X_train.apply(preprocess)\n",
    "X_test = X_test.apply(preprocess)"
   ]
  },
  {
   "cell_type": "code",
   "execution_count": null,
   "metadata": {},
   "outputs": [],
   "source": [
    "import pandas as pd\n",
    "import gensim\n",
    "from gensim.summarization import summarize\n",
    "import nltk\n",
    "from nltk.corpus import stopwords\n",
    "from nltk.stem import WordNetLemmatizer\n",
    "\n",
    "nltk.download('stopwords') \n",
    "nltk.download('wordnet') \n",
    "\n",
    "file = \"bbc-news-data.csv\"\n",
    "data = pd.read_csv(file, sep=\"\\t\")\n",
    "\n",
    "column_to_summarize = \"content\"\n",
    "\n",
    "def process(text):\n",
    "    stop_words = set(stopwords.words('english'))\n",
    "    text = text.encode('ascii', 'ignore').decode('ascii')\n",
    "    words = nltk.tokenize.WhitespaceTokenizer().tokenize(text)\n",
    "    filtered_words = [word.lower() for word in words if word.lower() not in stop_words]\n",
    "    lemmatizer = WordNetLemmatizer()\n",
    "    lemmatized_words = [lemmatizer.lemmatize(word) for word in filtered_words]\n",
    "    return ' '.join(lemmatized_words)\n",
    "\n",
    "def summarize_row(text):\n",
    "    try:\n",
    "        processed_text = process(text)\n",
    "        return summarize(processed_text, ratio=0.2)  \n",
    "    except ValueError: \n",
    "        return \"Unable to summarize\" \n",
    "\n",
    "data['summary'] = data[column_to_summarize].apply(summarize_row)\n",
    "\n",
    "# 6. Display the results\n",
    "print(data.head())\n"
   ]
  },
  {
   "cell_type": "code",
   "execution_count": null,
   "metadata": {},
   "outputs": [],
   "source": [
    "import pandas as pd\n",
    "from nltk.corpus import stopwords\n",
    "from nltk.tokenize import word_tokenize, sent_tokenize\n",
    "import string\n",
    "from gensim.models import Word2Vec\n",
    "from sklearn.metrics.pairwise import cosine_similarity\n",
    "import nltk\n",
    "from nltk import WordNetLemmatizer\n",
    "\n",
    "stop_words = set(stopwords.words('english'))\n",
    "\n",
    "def process(text):\n",
    "    stop_words = set(stopwords.words('english'))\n",
    "    text = text.encode('ascii', 'ignore').decode('ascii')\n",
    "    words = nltk.tokenize.WhitespaceTokenizer().tokenize(text)\n",
    "    filtered_words = [word.lower() for word in words if word.lower() not in stop_words]\n",
    "    lemmatizer = WordNetLemmatizer()\n",
    "    lemmatized_words = [lemmatizer.lemmatize(word) for word in filtered_words]\n",
    "    return ' '.join(lemmatized_words)\n",
    "\n",
    "file = \"bbc-news-data.csv\"\n",
    "data = pd.read_csv(file,sep=\"\\t\") \n",
    "\n",
    "data['content'] = data['content'].apply(preprocess)\n",
    "\n",
    "sentences = data['content'].apply(sent_tokenize)\n",
    "all_words = [word_tokenize(sent) for sent in sentences] \n",
    "model = Word2Vec(all_words, vector_size=100, window=5, min_count=2)  \n",
    "\n",
    "def create_summary(text):\n",
    "    sentences = sent_tokenize(text)\n",
    "    sentence_embeddings = [\n",
    "        sum([model.wv[word] for word in word_tokenize(sent) if word in model.wv]) / len(word_tokenize(sent))\n",
    "        for sent in sentences\n",
    "    ]\n",
    "    similarity_matrix = cosine_similarity(sentence_embeddings)\n",
    "    sentence_scores = similarity_matrix.diagonal() \n",
    "    top_n = int(0.2 * len(sentences)) \n",
    "    top_sentence_indices = [idx for idx, score in sorted(enumerate(sentence_scores), key=lambda x: x[1], reverse=True)][:top_n]\n",
    "    summary = ' '.join([sentences[i] for i in top_sentence_indices])\n",
    "    return summary\n",
    "\n",
    "data['summary'] = data['content'].apply(create_summary)\n",
    "data.head()\n"
   ]
  }
 ],
 "metadata": {
  "kernelspec": {
   "display_name": "praksa_env",
   "language": "python",
   "name": "python3"
  },
  "language_info": {
   "codemirror_mode": {
    "name": "ipython",
    "version": 3
   },
   "file_extension": ".py",
   "mimetype": "text/x-python",
   "name": "python",
   "nbconvert_exporter": "python",
   "pygments_lexer": "ipython3",
   "version": "3.12.1"
  }
 },
 "nbformat": 4,
 "nbformat_minor": 2
}
